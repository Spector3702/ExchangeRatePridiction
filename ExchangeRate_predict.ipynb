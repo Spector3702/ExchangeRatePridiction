{
 "cells": [
  {
   "cell_type": "markdown",
   "metadata": {},
   "source": [
    "# 把main.py拿過來作筆記"
   ]
  },
  {
   "cell_type": "code",
   "execution_count": 1,
   "metadata": {},
   "outputs": [],
   "source": [
    "import pickle\n",
    "import pandas as pd\n",
    "from sklearn.ensemble import RandomForestRegressor\n",
    "from matplotlib import pyplot as plt\n",
    "import matplotlib.ticker as ticker\n",
    "import matplotlib.dates as dates\n",
    "import joblib"
   ]
  },
  {
   "cell_type": "code",
   "execution_count": 2,
   "metadata": {},
   "outputs": [],
   "source": [
    "# merchandise = input(\"merchandise:\")\n",
    "merchandise = \"USD/NTD\"\n",
    "data = pd.read_csv('history.csv', encoding= 'unicode_escape', header=[0])\n",
    "data = data[['date',merchandise]]"
   ]
  },
  {
   "cell_type": "code",
   "execution_count": 56,
   "metadata": {},
   "outputs": [],
   "source": [
    "x_train = []\n",
    "y_train = []\n",
    "#資料並沒有剛好每天都有\n",
    "for i in range(0, 2688):\n",
    "    temp = []\n",
    "    for j in range(0, 31):\n",
    "        if j == 30: #以差30列的價差當作異變數，如merchandise[1031]-merchandise[1001]、merchandise[1033]-merchandise[1003]\n",
    "            y_train.append(data[merchandise][i+j] - data[merchandise][i])\n",
    "        else: #其他0~29列的價差當自變數，如1003-1001、1030-1001、1003-1002\n",
    "            temp.append(data[merchandise][i+j] - data[merchandise][i])\n",
    "            # 每30天存成一個temp\n",
    "            \n",
    "    # x_train中，每31列是一個object，如第一項是[1030-1001, 1029-1001, ... , 1002-1001]，1001列後31列的價差都存成第一項，下一項就是以1002後的31列\n",
    "    x_train.append(temp)"
   ]
  },
  {
   "cell_type": "code",
   "execution_count": 57,
   "metadata": {},
   "outputs": [],
   "source": [
    "# 一樣概念，將後面的資料當作test\n",
    "x_test = []\n",
    "y_test = []\n",
    "x_base = []\n",
    "for i in range(2688, 3328):\n",
    "    temp = []\n",
    "    # x_base 存2688~(3359-31)的價格\n",
    "    x_base.append(data[merchandise][i])\n",
    "    for j in range(0, 31):\n",
    "        if j == 30:\n",
    "            y_test.append(data[merchandise][i+j] - data[merchandise][i])\n",
    "        else:\n",
    "            temp.append(data[merchandise][i+j] - data[merchandise][i])\n",
    "    x_test.append(temp)"
   ]
  },
  {
   "cell_type": "markdown",
   "metadata": {},
   "source": [
    "## cross_val_score"
   ]
  },
  {
   "cell_type": "code",
   "execution_count": 71,
   "metadata": {},
   "outputs": [
    {
     "name": "stdout",
     "output_type": "stream",
     "text": [
      "[0.97519788 0.97152752 0.97402812 0.97047881 0.97489895]\n",
      "avg acc:  0.9732262550144111\n"
     ]
    }
   ],
   "source": [
    "from sklearn.model_selection import cross_val_score\n",
    "\n",
    "X = []\n",
    "y = []\n",
    "\n",
    "for i in range(0, 3328):\n",
    "    temp = []\n",
    "    for j in range(0, 31):\n",
    "        if j == 30: \n",
    "            y.append(data[merchandise][i+j] - data[merchandise][i])\n",
    "        else: \n",
    "            temp.append(data[merchandise][i+j] - data[merchandise][i])\n",
    "            \n",
    "    X.append(temp)\n",
    "\n",
    "model = RandomForestRegressor(n_estimators=200)\n",
    "# scores = cross_val_score(model, X, y, cv=5)\n",
    "# print(scores)\n",
    "# sum =0\n",
    "# for i in scores:\n",
    "#     sum  += i\n",
    "# print(\"avg acc: \", sum/len(scores))\n"
   ]
  },
  {
   "cell_type": "code",
   "execution_count": 75,
   "metadata": {},
   "outputs": [
    {
     "data": {
      "text/plain": [
       "['estimator', 'fit_time', 'score_time', 'test_score']"
      ]
     },
     "execution_count": 75,
     "metadata": {},
     "output_type": "execute_result"
    }
   ],
   "source": [
    "from sklearn.model_selection import cross_validate\n",
    "cv_results = cross_validate(model, X, y, cv=5,return_estimator=True)\n",
    "sorted(cv_results.keys())"
   ]
  },
  {
   "cell_type": "code",
   "execution_count": 76,
   "metadata": {},
   "outputs": [
    {
     "data": {
      "text/plain": [
       "[RandomForestRegressor(n_estimators=200),\n",
       " RandomForestRegressor(n_estimators=200),\n",
       " RandomForestRegressor(n_estimators=200),\n",
       " RandomForestRegressor(n_estimators=200),\n",
       " RandomForestRegressor(n_estimators=200)]"
      ]
     },
     "execution_count": 76,
     "metadata": {},
     "output_type": "execute_result"
    }
   ],
   "source": [
    "cv_results['estimator']"
   ]
  },
  {
   "cell_type": "code",
   "execution_count": 77,
   "metadata": {},
   "outputs": [],
   "source": [
    "rfc_fit = cv_results['estimator']\n",
    "# select the first model\n",
    "rfc_fit = rfc_fit[0]\n",
    "\n",
    "# save it\n",
    "pickle. dump(rfc_fit, open('CrossValidateModel_1', 'wb')) # save as pickle\n",
    "\n",
    "# load it\n",
    "loaded_model = pickle. load(open('CrossValidateModel_1', 'rb'))"
   ]
  },
  {
   "cell_type": "markdown",
   "metadata": {},
   "source": [
    "## DecisionTreeRegressor"
   ]
  },
  {
   "cell_type": "code",
   "execution_count": 67,
   "metadata": {},
   "outputs": [
    {
     "name": "stdout",
     "output_type": "stream",
     "text": [
      "[0.95371574 0.92879404 0.95022893 0.94685148 0.94470658]\n"
     ]
    }
   ],
   "source": [
    "from sklearn import tree\n",
    "clf = tree.DecisionTreeRegressor()\n",
    "scores = cross_val_score(clf, X, y, cv=5)\n",
    "print(scores)"
   ]
  },
  {
   "cell_type": "code",
   "execution_count": 60,
   "metadata": {},
   "outputs": [
    {
     "name": "stdout",
     "output_type": "stream",
     "text": [
      "Average error: 0.2208%\n",
      "accuracy: 99.7792 %\n"
     ]
    }
   ],
   "source": [
    "from sklearn import tree\n",
    "import pydotplus\n",
    "clf = tree.DecisionTreeRegressor().fit(x_train, y_train)\n",
    "dot_data=tree.export_graphviz(clf\n",
    "                              ,out_file=None\n",
    "                              ,filled = True\n",
    "                              ,rounded = True)\n",
    "graph=pydotplus.graph_from_dot_data(dot_data)\n",
    "graph.write_pdf('USD_NTD.pdf')\n",
    "y_predict = clf.predict(x_test)\n",
    "for i in range(len(x_base)):\n",
    "     y_predict[i] = y_predict[i] + x_base[i]\n",
    "date_plot = data['date'][2718:3359] # 因此這邊要從+30天後的2444+30=2474的日期及價格開始\n",
    "data_plot = data[merchandise][2718:3359]\n",
    "date_plot.reset_index(inplace = True, drop = True)\n",
    "data_plot.reset_index(inplace = True, drop = True)\n",
    "error_sum = 0\n",
    "for i in range(len(data_plot)):\n",
    "    error_sum += abs(data_plot[i] - y_predict[i])/data_plot[i]\n",
    "print('Average error: ' + \"{:.4f}\".format(error_sum/len(data_plot)*100) + '%')\n",
    "print(\"accuracy: %.4f\" % (100-error_sum/len(data_plot)*100),\"%\")"
   ]
  },
  {
   "cell_type": "code",
   "execution_count": 54,
   "metadata": {},
   "outputs": [],
   "source": [
    "# A random forest is a meta estimator that fits a number of classifying decision trees on various sub-samples of the dataset \n",
    "# uses averaging to improve the predictive accuracy and control over-fitting.\n",
    "# n_estimators : The number of trees in the forest.\n",
    "model = RandomForestRegressor(n_estimators=200).fit(x_train, y_train)\n",
    "# dot_data=tree.export_graphviz(model[0]\n",
    "#                               ,out_file=None\n",
    "#                               ,filled = True\n",
    "#                               ,rounded = True)\n",
    "# graph=pydotplus.graph_from_dot_data(dot_data)\n",
    "# graph.write_pdf('Random_0.pdf')\n"
   ]
  },
  {
   "cell_type": "code",
   "execution_count": 55,
   "metadata": {},
   "outputs": [],
   "source": [
    "# dot_data=tree.export_graphviz(model[1]\n",
    "#                               ,out_file=None\n",
    "#                               ,filled = True\n",
    "#                               ,rounded = True)\n",
    "# graph=pydotplus.graph_from_dot_data(dot_data)\n",
    "# graph.write_pdf('Random_1.pdf')\n",
    "y_predict = model.predict(x_test)"
   ]
  },
  {
   "cell_type": "code",
   "execution_count": 45,
   "metadata": {},
   "outputs": [],
   "source": [
    "# 原本的predict是價差\n",
    "# 把它變回價格(1031-1001+1001=1031的價格)\n",
    "for i in range(len(x_base)):\n",
    "     y_predict[i] = y_predict[i] + x_base[i]"
   ]
  },
  {
   "cell_type": "code",
   "execution_count": 46,
   "metadata": {},
   "outputs": [],
   "source": [
    "date_plot = data['date'][2698:3359] # 因此這邊要從+30天後的2444+30=2474的日期及價格開始\n",
    "data_plot = data[merchandise][2698:3359]\n",
    "# When we reset the index, the old index is added as a column, and a new sequential index is used\n",
    "# use the drop parameter to avoid the old index being added as a column\n",
    "# inplace:布爾值，如果為True，則對原始 DataFrame 本身進行更改\n",
    "date_plot.reset_index(inplace = True, drop = True)\n",
    "data_plot.reset_index(inplace = True, drop = True)\n",
    "# plt.plot(date_plot, y_predict) \n",
    "# plt.plot(date_plot, data_plot)\n",
    "# plt.show()"
   ]
  },
  {
   "cell_type": "code",
   "execution_count": 47,
   "metadata": {},
   "outputs": [
    {
     "data": {
      "image/png": "[encoded data removed]",
      "text/plain": [
       "<Figure size 432x288 with 1 Axes>"
      ]
     },
     "metadata": {
      "needs_background": "light"
     },
     "output_type": "display_data"
    }
   ],
   "source": [
    "plt.plot(date_plot, y_predict)\n",
    "plt.plot(date_plot, data_plot)\n",
    "# line_blue = Predict, line_orange = Origin\n",
    "plt.legend(['Predict','Origin'])\n",
    "ax = plt.gca() # 使用 plt.gca() 取得軸物件\n",
    "plt.xlabel('date')\n",
    "# ax.set_xlabel('date')\n",
    "plt.ylabel(merchandise, rotation = 0)\n",
    "# ax.set_ylabel(merchandise, rotation = 0)\n",
    "plt.title(\"RandomForest Prediction\")\n",
    "\n",
    "# ax = plt.subplot(1,1,1) #row,column,plot(第幾個點)，把整張圖當作1*1的矩陣的話，全部就只有一個點\n",
    "    \n",
    "ax.xaxis.set_major_locator(ticker.MultipleLocator(100)) #調整間距\n",
    "# ax.xaxis.set_major_locator(dates.DayLocator(interval=100)) #也是調整間距，限定日期\n",
    "plt.gcf().autofmt_xdate() # 將日期以 45 度斜放\n",
    "plt.show()"
   ]
  },
  {
   "cell_type": "code",
   "execution_count": 48,
   "metadata": {},
   "outputs": [
    {
     "name": "stdout",
     "output_type": "stream",
     "text": [
      "Average error: 0.1481%\n",
      "accuracy: 99.8519 %\n"
     ]
    }
   ],
   "source": [
    "error_sum = 0\n",
    "for i in range(len(data_plot)):\n",
    "    error_sum += abs(data_plot[i] - y_predict[i])/data_plot[i]\n",
    "print('Average error: ' + \"{:.4f}\".format(error_sum/len(data_plot)*100) + '%')\n",
    "print(\"accuracy: %.4f\" % (100-error_sum/len(data_plot)*100),\"%\")"
   ]
  },
  {
   "cell_type": "code",
   "execution_count": 36,
   "metadata": {},
   "outputs": [],
   "source": [
    "# save model\n",
    "# joblib.dump(model, \"./ExchangeRate.joblib\") #save as joblib\n",
    "pickle. dump(model, open('ExchangeRate_EU_USD', 'wb')) # save as pickle"
   ]
  },
  {
   "cell_type": "code",
   "execution_count": 33,
   "metadata": {},
   "outputs": [],
   "source": [
    "# load the model from disk.\n",
    "loaded_model = pickle. load(open('ExchangeRate', 'rb'))"
   ]
  }
 ],
 "metadata": {
  "kernelspec": {
   "display_name": "Python 3.9.12 ('base')",
   "language": "python",
   "name": "python3"
  },
  "language_info": {
   "codemirror_mode": {
    "name": "ipython",
    "version": 3
   },
   "file_extension": ".py",
   "mimetype": "text/x-python",
   "name": "python",
   "nbconvert_exporter": "python",
   "pygments_lexer": "ipython3",
   "version": "3.9.12"
  },
  "orig_nbformat": 4,
  "vscode": {
   "interpreter": {
    "hash": "ba181fbcb27fcf7ec77d588abcd4688aa418d73524c03bafafb5f01e5bb121dd"
   }
  }
 },
 "nbformat": 4,
 "nbformat_minor": 2
}
